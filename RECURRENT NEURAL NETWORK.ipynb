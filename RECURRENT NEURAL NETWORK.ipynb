{
 "cells": [
  {
   "cell_type": "code",
   "execution_count": null,
   "id": "e0c3dbbd",
   "metadata": {},
   "outputs": [],
   "source": []
  },
  {
   "cell_type": "code",
   "execution_count": null,
   "id": "6d2274cf",
   "metadata": {},
   "outputs": [],
   "source": []
  },
  {
   "cell_type": "code",
   "execution_count": null,
   "id": "0cbbb6d8",
   "metadata": {},
   "outputs": [],
   "source": []
  },
  {
   "cell_type": "code",
   "execution_count": null,
   "id": "3057307d",
   "metadata": {},
   "outputs": [],
   "source": []
  },
  {
   "cell_type": "code",
   "execution_count": null,
   "id": "b666e930",
   "metadata": {},
   "outputs": [],
   "source": []
  },
  {
   "cell_type": "code",
   "execution_count": null,
   "id": "dd296a69",
   "metadata": {},
   "outputs": [],
   "source": []
  },
  {
   "cell_type": "code",
   "execution_count": null,
   "id": "006aee23",
   "metadata": {},
   "outputs": [],
   "source": []
  },
  {
   "cell_type": "code",
   "execution_count": 14,
   "id": "23dba3a7",
   "metadata": {},
   "outputs": [],
   "source": [
    "import pandas as pd\n",
    "import numpy as np\n",
    "from sklearn.model_selection import train_test_split\n",
    "from sklearn.preprocessing import StandardScaler, LabelEncoder\n",
    "from sklearn.impute import SimpleImputer\n",
    "from sklearn.metrics import precision_score, recall_score, accuracy_score, f1_score\n",
    "from tensorflow.keras.models import Sequential\n",
    "from tensorflow.keras.layers import LSTM, Dense, Dropout\n",
    "\n",
    "# Load the dataset\n",
    "data = pd.read_csv('New heart.csv')"
   ]
  },
  {
   "cell_type": "code",
   "execution_count": 15,
   "id": "76bf35db",
   "metadata": {},
   "outputs": [],
   "source": [
    "# Handle missing values (Replace 'M' with NaN)\n",
    "data = data.replace('M', np.nan)\n",
    "\n",
    "# Drop rows with missing target values (assuming 'target' is the column name)\n",
    "data.dropna(subset=['HeartDisease'], inplace=True)"
   ]
  },
  {
   "cell_type": "code",
   "execution_count": 16,
   "id": "bab7e615",
   "metadata": {},
   "outputs": [],
   "source": [
    "# Define features (X) and target (y)\n",
    "X = data.drop('HeartDisease', axis=1)\n",
    "y = data['HeartDisease']"
   ]
  },
  {
   "cell_type": "code",
   "execution_count": 17,
   "id": "1294db75",
   "metadata": {},
   "outputs": [],
   "source": [
    "# Convert non-numeric columns to numeric using LabelEncoder\n",
    "label_encoder = LabelEncoder()\n",
    "X['Sex'] = label_encoder.fit_transform(X['Sex'])\n",
    "X['ChestPainType'] = label_encoder.fit_transform(X['ChestPainType'])\n",
    "X['RestingECG'] = label_encoder.fit_transform(X['RestingECG'])\n",
    "X['ExerciseAngina'] = label_encoder.fit_transform(X['ExerciseAngina'])\n",
    "X['ST_Slope'] = label_encoder.fit_transform(X['ST_Slope'])"
   ]
  },
  {
   "cell_type": "code",
   "execution_count": 18,
   "id": "1cd5a1d3",
   "metadata": {},
   "outputs": [],
   "source": [
    "# Handle missing values in the feature columns\n",
    "imputer = SimpleImputer(strategy='mean')\n",
    "X = imputer.fit_transform(X)"
   ]
  },
  {
   "cell_type": "code",
   "execution_count": 19,
   "id": "ee70fb5c",
   "metadata": {},
   "outputs": [],
   "source": [
    "# Split the data into training and test sets\n",
    "X_train, X_test, y_train, y_test = train_test_split(X, y, test_size=0.2, random_state=42)\n"
   ]
  },
  {
   "cell_type": "code",
   "execution_count": 20,
   "id": "df455f6f",
   "metadata": {},
   "outputs": [],
   "source": [
    "# Standardize the data\n",
    "scaler = StandardScaler()\n",
    "X_train = scaler.fit_transform(X_train)\n",
    "X_test = scaler.transform(X_test)"
   ]
  },
  {
   "cell_type": "code",
   "execution_count": 21,
   "id": "b807f882",
   "metadata": {},
   "outputs": [],
   "source": [
    "# Reshape the data for RNN (assuming you want a time step of 1)\n",
    "X_train = X_train[:, np.newaxis, :]\n",
    "X_test = X_test[:, np.newaxis, :]"
   ]
  },
  {
   "cell_type": "code",
   "execution_count": 22,
   "id": "d844b6ff",
   "metadata": {},
   "outputs": [],
   "source": [
    "# Build the RNN model\n",
    "model = Sequential()\n",
    "model.add(LSTM(units=64, input_shape=(X_train.shape[1], X_train.shape[2])))\n",
    "model.add(Dropout(0.2))\n",
    "model.add(Dense(units=1, activation='sigmoid'))"
   ]
  },
  {
   "cell_type": "code",
   "execution_count": 23,
   "id": "956ccf0c",
   "metadata": {},
   "outputs": [],
   "source": [
    "# Compile the model\n",
    "model.compile(optimizer='adam', loss='binary_crossentropy', metrics=['accuracy'])"
   ]
  },
  {
   "cell_type": "code",
   "execution_count": 24,
   "id": "7fa42cae",
   "metadata": {},
   "outputs": [
    {
     "name": "stdout",
     "output_type": "stream",
     "text": [
      "Epoch 1/50\n",
      "42/42 [==============================] - 3s 16ms/step - loss: 0.6240 - accuracy: 0.7894 - val_loss: 0.5735 - val_accuracy: 0.8243\n",
      "Epoch 2/50\n",
      "42/42 [==============================] - 0s 3ms/step - loss: 0.5024 - accuracy: 0.8621 - val_loss: 0.4951 - val_accuracy: 0.8243\n",
      "Epoch 3/50\n",
      "42/42 [==============================] - 0s 3ms/step - loss: 0.4231 - accuracy: 0.8561 - val_loss: 0.4538 - val_accuracy: 0.8243\n",
      "Epoch 4/50\n",
      "42/42 [==============================] - 0s 3ms/step - loss: 0.3764 - accuracy: 0.8606 - val_loss: 0.4432 - val_accuracy: 0.8243\n",
      "Epoch 5/50\n",
      "42/42 [==============================] - 0s 4ms/step - loss: 0.3539 - accuracy: 0.8606 - val_loss: 0.4398 - val_accuracy: 0.8243\n",
      "Epoch 6/50\n",
      "42/42 [==============================] - 0s 3ms/step - loss: 0.3396 - accuracy: 0.8652 - val_loss: 0.4435 - val_accuracy: 0.8243\n",
      "Epoch 7/50\n",
      "42/42 [==============================] - 0s 3ms/step - loss: 0.3338 - accuracy: 0.8682 - val_loss: 0.4439 - val_accuracy: 0.8243\n",
      "Epoch 8/50\n",
      "42/42 [==============================] - 0s 3ms/step - loss: 0.3272 - accuracy: 0.8682 - val_loss: 0.4466 - val_accuracy: 0.8243\n",
      "Epoch 9/50\n",
      "42/42 [==============================] - 0s 3ms/step - loss: 0.3253 - accuracy: 0.8667 - val_loss: 0.4469 - val_accuracy: 0.8243\n",
      "Epoch 10/50\n",
      "42/42 [==============================] - 0s 3ms/step - loss: 0.3195 - accuracy: 0.8652 - val_loss: 0.4478 - val_accuracy: 0.8243\n",
      "Epoch 11/50\n",
      "42/42 [==============================] - 0s 5ms/step - loss: 0.3169 - accuracy: 0.8697 - val_loss: 0.4518 - val_accuracy: 0.8378\n",
      "Epoch 12/50\n",
      "42/42 [==============================] - 0s 5ms/step - loss: 0.3153 - accuracy: 0.8727 - val_loss: 0.4504 - val_accuracy: 0.8243\n",
      "Epoch 13/50\n",
      "42/42 [==============================] - 0s 6ms/step - loss: 0.3102 - accuracy: 0.8712 - val_loss: 0.4514 - val_accuracy: 0.8243\n",
      "Epoch 14/50\n",
      "42/42 [==============================] - 0s 4ms/step - loss: 0.3108 - accuracy: 0.8712 - val_loss: 0.4516 - val_accuracy: 0.8108\n",
      "Epoch 15/50\n",
      "42/42 [==============================] - 0s 4ms/step - loss: 0.3083 - accuracy: 0.8697 - val_loss: 0.4501 - val_accuracy: 0.8108\n",
      "Epoch 16/50\n",
      "42/42 [==============================] - 0s 4ms/step - loss: 0.3052 - accuracy: 0.8727 - val_loss: 0.4497 - val_accuracy: 0.8108\n",
      "Epoch 17/50\n",
      "42/42 [==============================] - 0s 4ms/step - loss: 0.3024 - accuracy: 0.8727 - val_loss: 0.4546 - val_accuracy: 0.8108\n",
      "Epoch 18/50\n",
      "42/42 [==============================] - 0s 4ms/step - loss: 0.2969 - accuracy: 0.8758 - val_loss: 0.4516 - val_accuracy: 0.8108\n",
      "Epoch 19/50\n",
      "42/42 [==============================] - 0s 4ms/step - loss: 0.2923 - accuracy: 0.8727 - val_loss: 0.4513 - val_accuracy: 0.8108\n",
      "Epoch 20/50\n",
      "42/42 [==============================] - 0s 3ms/step - loss: 0.2913 - accuracy: 0.8773 - val_loss: 0.4534 - val_accuracy: 0.8108\n",
      "Epoch 21/50\n",
      "42/42 [==============================] - 0s 4ms/step - loss: 0.2895 - accuracy: 0.8727 - val_loss: 0.4548 - val_accuracy: 0.8108\n",
      "Epoch 22/50\n",
      "42/42 [==============================] - 0s 4ms/step - loss: 0.2910 - accuracy: 0.8742 - val_loss: 0.4553 - val_accuracy: 0.7973\n",
      "Epoch 23/50\n",
      "42/42 [==============================] - 0s 4ms/step - loss: 0.2889 - accuracy: 0.8727 - val_loss: 0.4548 - val_accuracy: 0.8108\n",
      "Epoch 24/50\n",
      "42/42 [==============================] - 0s 4ms/step - loss: 0.2852 - accuracy: 0.8773 - val_loss: 0.4560 - val_accuracy: 0.7973\n",
      "Epoch 25/50\n",
      "42/42 [==============================] - 0s 4ms/step - loss: 0.2836 - accuracy: 0.8758 - val_loss: 0.4569 - val_accuracy: 0.7973\n",
      "Epoch 26/50\n",
      "42/42 [==============================] - 0s 4ms/step - loss: 0.2833 - accuracy: 0.8727 - val_loss: 0.4553 - val_accuracy: 0.7973\n",
      "Epoch 27/50\n",
      "42/42 [==============================] - 0s 4ms/step - loss: 0.2790 - accuracy: 0.8773 - val_loss: 0.4598 - val_accuracy: 0.7973\n",
      "Epoch 28/50\n",
      "42/42 [==============================] - 0s 3ms/step - loss: 0.2733 - accuracy: 0.8788 - val_loss: 0.4579 - val_accuracy: 0.7973\n",
      "Epoch 29/50\n",
      "42/42 [==============================] - 0s 4ms/step - loss: 0.2742 - accuracy: 0.8803 - val_loss: 0.4636 - val_accuracy: 0.7973\n",
      "Epoch 30/50\n",
      "42/42 [==============================] - 0s 4ms/step - loss: 0.2744 - accuracy: 0.8742 - val_loss: 0.4651 - val_accuracy: 0.7973\n",
      "Epoch 31/50\n",
      "42/42 [==============================] - 0s 4ms/step - loss: 0.2747 - accuracy: 0.8788 - val_loss: 0.4640 - val_accuracy: 0.7973\n",
      "Epoch 32/50\n",
      "42/42 [==============================] - 0s 4ms/step - loss: 0.2699 - accuracy: 0.8848 - val_loss: 0.4666 - val_accuracy: 0.7973\n",
      "Epoch 33/50\n",
      "42/42 [==============================] - 0s 3ms/step - loss: 0.2713 - accuracy: 0.8803 - val_loss: 0.4671 - val_accuracy: 0.7973\n",
      "Epoch 34/50\n",
      "42/42 [==============================] - 0s 3ms/step - loss: 0.2634 - accuracy: 0.8879 - val_loss: 0.4749 - val_accuracy: 0.7973\n",
      "Epoch 35/50\n",
      "42/42 [==============================] - 0s 4ms/step - loss: 0.2634 - accuracy: 0.8864 - val_loss: 0.4740 - val_accuracy: 0.7973\n",
      "Epoch 36/50\n",
      "42/42 [==============================] - 0s 4ms/step - loss: 0.2603 - accuracy: 0.8894 - val_loss: 0.4740 - val_accuracy: 0.7973\n",
      "Epoch 37/50\n",
      "42/42 [==============================] - 0s 3ms/step - loss: 0.2643 - accuracy: 0.8864 - val_loss: 0.4802 - val_accuracy: 0.7973\n",
      "Epoch 38/50\n",
      "42/42 [==============================] - 0s 3ms/step - loss: 0.2635 - accuracy: 0.8864 - val_loss: 0.4846 - val_accuracy: 0.7973\n",
      "Epoch 39/50\n",
      "42/42 [==============================] - 0s 5ms/step - loss: 0.2590 - accuracy: 0.8879 - val_loss: 0.4958 - val_accuracy: 0.7973\n",
      "Epoch 40/50\n",
      "42/42 [==============================] - 0s 5ms/step - loss: 0.2558 - accuracy: 0.8939 - val_loss: 0.4949 - val_accuracy: 0.7973\n",
      "Epoch 41/50\n",
      "42/42 [==============================] - 0s 3ms/step - loss: 0.2588 - accuracy: 0.8939 - val_loss: 0.4971 - val_accuracy: 0.7838\n",
      "Epoch 42/50\n",
      "42/42 [==============================] - 0s 4ms/step - loss: 0.2555 - accuracy: 0.8909 - val_loss: 0.5026 - val_accuracy: 0.7973\n",
      "Epoch 43/50\n",
      "42/42 [==============================] - 0s 3ms/step - loss: 0.2529 - accuracy: 0.8879 - val_loss: 0.5036 - val_accuracy: 0.7973\n",
      "Epoch 44/50\n",
      "42/42 [==============================] - 0s 3ms/step - loss: 0.2516 - accuracy: 0.8864 - val_loss: 0.5045 - val_accuracy: 0.7973\n",
      "Epoch 45/50\n",
      "42/42 [==============================] - 0s 3ms/step - loss: 0.2507 - accuracy: 0.8955 - val_loss: 0.5056 - val_accuracy: 0.7973\n",
      "Epoch 46/50\n",
      "42/42 [==============================] - 0s 4ms/step - loss: 0.2481 - accuracy: 0.8955 - val_loss: 0.5100 - val_accuracy: 0.7973\n",
      "Epoch 47/50\n",
      "42/42 [==============================] - 0s 4ms/step - loss: 0.2530 - accuracy: 0.8818 - val_loss: 0.5139 - val_accuracy: 0.7973\n",
      "Epoch 48/50\n",
      "42/42 [==============================] - 0s 4ms/step - loss: 0.2515 - accuracy: 0.8924 - val_loss: 0.5203 - val_accuracy: 0.7973\n",
      "Epoch 49/50\n",
      "42/42 [==============================] - 0s 4ms/step - loss: 0.2425 - accuracy: 0.8985 - val_loss: 0.5118 - val_accuracy: 0.7973\n",
      "Epoch 50/50\n",
      "42/42 [==============================] - 0s 3ms/step - loss: 0.2404 - accuracy: 0.8955 - val_loss: 0.5180 - val_accuracy: 0.7973\n"
     ]
    },
    {
     "data": {
      "text/plain": [
       "<keras.src.callbacks.History at 0x294d2f225c0>"
      ]
     },
     "execution_count": 24,
     "metadata": {},
     "output_type": "execute_result"
    }
   ],
   "source": [
    "# Train the model\n",
    "model.fit(X_train, y_train, epochs=50, batch_size=16, validation_split=0.1)"
   ]
  },
  {
   "cell_type": "code",
   "execution_count": 25,
   "id": "15346b27",
   "metadata": {},
   "outputs": [
    {
     "name": "stdout",
     "output_type": "stream",
     "text": [
      "6/6 [==============================] - 0s 3ms/step\n"
     ]
    }
   ],
   "source": [
    "# Make predictions on the test set\n",
    "y_pred = model.predict(X_test)\n",
    "y_pred = (y_pred > 0.5).astype(int)"
   ]
  },
  {
   "cell_type": "code",
   "execution_count": 26,
   "id": "9f57434d",
   "metadata": {},
   "outputs": [
    {
     "name": "stdout",
     "output_type": "stream",
     "text": [
      "Precision: 95.0\n",
      "Recall: 88.78504672897196\n",
      "Accuracy: 90.76086956521739\n",
      "F1 Score: 91.78743961352657\n"
     ]
    }
   ],
   "source": [
    "# Calculate evaluation metrics\n",
    "precision = precision_score(y_test, y_pred)\n",
    "recall = recall_score(y_test, y_pred)\n",
    "accuracy = accuracy_score(y_test, y_pred)\n",
    "f1 = f1_score(y_test, y_pred)\n",
    "\n",
    "# Print the evaluation metrics\n",
    "print(\"Precision:\", precision*100)\n",
    "print(\"Recall:\", recall*100)\n",
    "print(\"Accuracy:\", accuracy*100)\n",
    "print(\"F1 Score:\", f1*100)\n"
   ]
  },
  {
   "cell_type": "code",
   "execution_count": null,
   "id": "567081c0",
   "metadata": {},
   "outputs": [],
   "source": []
  }
 ],
 "metadata": {
  "kernelspec": {
   "display_name": "Python 3 (ipykernel)",
   "language": "python",
   "name": "python3"
  },
  "language_info": {
   "codemirror_mode": {
    "name": "ipython",
    "version": 3
   },
   "file_extension": ".py",
   "mimetype": "text/x-python",
   "name": "python",
   "nbconvert_exporter": "python",
   "pygments_lexer": "ipython3",
   "version": "3.10.9"
  }
 },
 "nbformat": 4,
 "nbformat_minor": 5
}
