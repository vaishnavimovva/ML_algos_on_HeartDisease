{
 "cells": [
  {
   "cell_type": "markdown",
   "id": "4da1be7a",
   "metadata": {},
   "source": [
    "# LSTM Algorithm:\n",
    "\n",
    "* LSTM (Long Short-Term Memory) is a type of Recurrent Neural Network (RNN) designed to handle sequential data with long-range dependencies.\n",
    "* It addresses the vanishing gradient problem in traditional RNNs, enabling better learning of long-term patterns.\n",
    "* LSTM includes memory cells (cells) that can retain information over long periods, crucial for understanding sequences.\n",
    "* The architecture involves three gates: Forget Gate, Input Gate, and Output Gate, which control the flow of information within the cell.\n",
    "* LSTM's hidden state captures relevant information from the cell state and input, aiding in predictions and decisions.\n",
    "* Backpropagation Through Time (BPTT) is used to train LSTM, considering the temporal dependencies in sequences.\n",
    "* Understanding LSTM's components and training it effectively can unlock its power in sequence analysis tasks."
   ]
  },
  {
   "cell_type": "code",
   "execution_count": null,
   "id": "0bf5834e",
   "metadata": {},
   "outputs": [],
   "source": []
  },
  {
   "cell_type": "code",
   "execution_count": null,
   "id": "b53d4259",
   "metadata": {},
   "outputs": [],
   "source": []
  },
  {
   "cell_type": "code",
   "execution_count": null,
   "id": "d760845d",
   "metadata": {},
   "outputs": [],
   "source": []
  },
  {
   "cell_type": "code",
   "execution_count": null,
   "id": "c6bab320",
   "metadata": {},
   "outputs": [],
   "source": []
  },
  {
   "cell_type": "code",
   "execution_count": null,
   "id": "0e6684d3",
   "metadata": {},
   "outputs": [],
   "source": []
  },
  {
   "cell_type": "code",
   "execution_count": null,
   "id": "5e921a60",
   "metadata": {},
   "outputs": [],
   "source": []
  },
  {
   "cell_type": "code",
   "execution_count": 298,
   "id": "20b0f673",
   "metadata": {},
   "outputs": [],
   "source": [
    "import pandas as pd\n",
    "import numpy as np\n",
    "from sklearn.model_selection import train_test_split\n",
    "from sklearn.preprocessing import StandardScaler, LabelEncoder\n",
    "from sklearn.metrics import precision_score, recall_score, accuracy_score, f1_score\n",
    "from tensorflow.keras.models import Sequential\n",
    "from tensorflow.keras.layers import LSTM, Dense, Dropout\n",
    "\n",
    "# Load the dataset\n",
    "data = pd.read_csv('New heart.csv')\n"
   ]
  },
  {
   "cell_type": "code",
   "execution_count": 299,
   "id": "bbf654c2",
   "metadata": {},
   "outputs": [],
   "source": [
    "# Convert categorical features to one-hot encoding\n",
    "categorical_columns = ['Sex', 'ChestPainType', 'RestingECG', 'ExerciseAngina', 'ST_Slope']\n",
    "data = pd.get_dummies(data, columns=categorical_columns)"
   ]
  },
  {
   "cell_type": "code",
   "execution_count": 300,
   "id": "cab423c8",
   "metadata": {},
   "outputs": [],
   "source": [
    "# Define features (X) and target (y)\n",
    "X = data.drop('HeartDisease', axis=1)\n",
    "y = data['HeartDisease']"
   ]
  },
  {
   "cell_type": "code",
   "execution_count": 301,
   "id": "f06f5b69",
   "metadata": {},
   "outputs": [],
   "source": [
    "# Split the data into training and test sets\n",
    "X_train, X_test, y_train, y_test = train_test_split(X, y, test_size=0.2, random_state=42)"
   ]
  },
  {
   "cell_type": "code",
   "execution_count": 302,
   "id": "ca6a2e55",
   "metadata": {},
   "outputs": [],
   "source": [
    "# Standardize the data\n",
    "scaler = StandardScaler()\n",
    "X_train = scaler.fit_transform(X_train)\n",
    "X_test = scaler.transform(X_test)"
   ]
  },
  {
   "cell_type": "code",
   "execution_count": 303,
   "id": "dc631628",
   "metadata": {},
   "outputs": [],
   "source": [
    "# Reshape the data for LSTM (assuming you want a time step of 1)\n",
    "X_train = X_train[:, np.newaxis, :]\n",
    "X_test = X_test[:, np.newaxis, :]"
   ]
  },
  {
   "cell_type": "code",
   "execution_count": 304,
   "id": "57f402b2",
   "metadata": {},
   "outputs": [],
   "source": [
    "# Build the LSTM model\n",
    "model = Sequential()\n",
    "model.add(LSTM(units=64, input_shape=(X_train.shape[1], X_train.shape[2])))\n",
    "model.add(Dropout(0.2))\n",
    "model.add(Dense(units=1, activation='sigmoid'))"
   ]
  },
  {
   "cell_type": "code",
   "execution_count": 305,
   "id": "ab640044",
   "metadata": {},
   "outputs": [],
   "source": [
    "# Compile the model\n",
    "model.compile(optimizer='adam', loss='binary_crossentropy', metrics=['accuracy'])"
   ]
  },
  {
   "cell_type": "code",
   "execution_count": 306,
   "id": "26e91319",
   "metadata": {},
   "outputs": [
    {
     "name": "stdout",
     "output_type": "stream",
     "text": [
      "Epoch 1/50\n",
      "42/42 [==============================] - 5s 25ms/step - loss: 0.5815 - accuracy: 0.8182 - val_loss: 0.5494 - val_accuracy: 0.7973\n",
      "Epoch 2/50\n",
      "42/42 [==============================] - 0s 8ms/step - loss: 0.4347 - accuracy: 0.8727 - val_loss: 0.4835 - val_accuracy: 0.8108\n",
      "Epoch 3/50\n",
      "42/42 [==============================] - 0s 8ms/step - loss: 0.3593 - accuracy: 0.8727 - val_loss: 0.4659 - val_accuracy: 0.8108\n",
      "Epoch 4/50\n",
      "42/42 [==============================] - 0s 6ms/step - loss: 0.3277 - accuracy: 0.8758 - val_loss: 0.4633 - val_accuracy: 0.8108\n",
      "Epoch 5/50\n",
      "42/42 [==============================] - 0s 8ms/step - loss: 0.3132 - accuracy: 0.8803 - val_loss: 0.4584 - val_accuracy: 0.8243\n",
      "Epoch 6/50\n",
      "42/42 [==============================] - 0s 7ms/step - loss: 0.3043 - accuracy: 0.8758 - val_loss: 0.4582 - val_accuracy: 0.8243\n",
      "Epoch 7/50\n",
      "42/42 [==============================] - 0s 6ms/step - loss: 0.2996 - accuracy: 0.8848 - val_loss: 0.4592 - val_accuracy: 0.8243\n",
      "Epoch 8/50\n",
      "42/42 [==============================] - 0s 8ms/step - loss: 0.2938 - accuracy: 0.8848 - val_loss: 0.4630 - val_accuracy: 0.8243\n",
      "Epoch 9/50\n",
      "42/42 [==============================] - 0s 11ms/step - loss: 0.2913 - accuracy: 0.8864 - val_loss: 0.4619 - val_accuracy: 0.8108\n",
      "Epoch 10/50\n",
      "42/42 [==============================] - 0s 8ms/step - loss: 0.2868 - accuracy: 0.8864 - val_loss: 0.4660 - val_accuracy: 0.8108\n",
      "Epoch 11/50\n",
      "42/42 [==============================] - 0s 10ms/step - loss: 0.2860 - accuracy: 0.8864 - val_loss: 0.4651 - val_accuracy: 0.8108\n",
      "Epoch 12/50\n",
      "42/42 [==============================] - 1s 13ms/step - loss: 0.2822 - accuracy: 0.8924 - val_loss: 0.4671 - val_accuracy: 0.8108\n",
      "Epoch 13/50\n",
      "42/42 [==============================] - 1s 13ms/step - loss: 0.2782 - accuracy: 0.8909 - val_loss: 0.4666 - val_accuracy: 0.8108\n",
      "Epoch 14/50\n",
      "42/42 [==============================] - 1s 15ms/step - loss: 0.2778 - accuracy: 0.8894 - val_loss: 0.4686 - val_accuracy: 0.8243\n",
      "Epoch 15/50\n",
      "42/42 [==============================] - 1s 13ms/step - loss: 0.2683 - accuracy: 0.8924 - val_loss: 0.4719 - val_accuracy: 0.8243\n",
      "Epoch 16/50\n",
      "42/42 [==============================] - 0s 11ms/step - loss: 0.2700 - accuracy: 0.8924 - val_loss: 0.4745 - val_accuracy: 0.8108\n",
      "Epoch 17/50\n",
      "42/42 [==============================] - 0s 11ms/step - loss: 0.2673 - accuracy: 0.8894 - val_loss: 0.4715 - val_accuracy: 0.8243\n",
      "Epoch 18/50\n",
      "42/42 [==============================] - 0s 9ms/step - loss: 0.2682 - accuracy: 0.8879 - val_loss: 0.4725 - val_accuracy: 0.8108\n",
      "Epoch 19/50\n",
      "42/42 [==============================] - 0s 8ms/step - loss: 0.2618 - accuracy: 0.8939 - val_loss: 0.4793 - val_accuracy: 0.8108\n",
      "Epoch 20/50\n",
      "42/42 [==============================] - 0s 9ms/step - loss: 0.2635 - accuracy: 0.8924 - val_loss: 0.4776 - val_accuracy: 0.8108\n",
      "Epoch 21/50\n",
      "42/42 [==============================] - 0s 9ms/step - loss: 0.2611 - accuracy: 0.8909 - val_loss: 0.4818 - val_accuracy: 0.8108\n",
      "Epoch 22/50\n",
      "42/42 [==============================] - 0s 9ms/step - loss: 0.2534 - accuracy: 0.8955 - val_loss: 0.4872 - val_accuracy: 0.8108\n",
      "Epoch 23/50\n",
      "42/42 [==============================] - 0s 9ms/step - loss: 0.2541 - accuracy: 0.8939 - val_loss: 0.4888 - val_accuracy: 0.8108\n",
      "Epoch 24/50\n",
      "42/42 [==============================] - 0s 7ms/step - loss: 0.2513 - accuracy: 0.8970 - val_loss: 0.4883 - val_accuracy: 0.8108\n",
      "Epoch 25/50\n",
      "42/42 [==============================] - 0s 7ms/step - loss: 0.2451 - accuracy: 0.9015 - val_loss: 0.4943 - val_accuracy: 0.8108\n",
      "Epoch 26/50\n",
      "42/42 [==============================] - 0s 11ms/step - loss: 0.2496 - accuracy: 0.9045 - val_loss: 0.4958 - val_accuracy: 0.8108\n",
      "Epoch 27/50\n",
      "42/42 [==============================] - 0s 11ms/step - loss: 0.2472 - accuracy: 0.8970 - val_loss: 0.4974 - val_accuracy: 0.7973\n",
      "Epoch 28/50\n",
      "42/42 [==============================] - 0s 10ms/step - loss: 0.2411 - accuracy: 0.9030 - val_loss: 0.4981 - val_accuracy: 0.8108\n",
      "Epoch 29/50\n",
      "42/42 [==============================] - 0s 10ms/step - loss: 0.2359 - accuracy: 0.8970 - val_loss: 0.5041 - val_accuracy: 0.8108\n",
      "Epoch 30/50\n",
      "42/42 [==============================] - 0s 9ms/step - loss: 0.2374 - accuracy: 0.9015 - val_loss: 0.5067 - val_accuracy: 0.7973\n",
      "Epoch 31/50\n",
      "42/42 [==============================] - 0s 8ms/step - loss: 0.2405 - accuracy: 0.9045 - val_loss: 0.5057 - val_accuracy: 0.7973\n",
      "Epoch 32/50\n",
      "42/42 [==============================] - 0s 8ms/step - loss: 0.2324 - accuracy: 0.8985 - val_loss: 0.5085 - val_accuracy: 0.8108\n",
      "Epoch 33/50\n",
      "42/42 [==============================] - 0s 7ms/step - loss: 0.2301 - accuracy: 0.9061 - val_loss: 0.5151 - val_accuracy: 0.8108\n",
      "Epoch 34/50\n",
      "42/42 [==============================] - 0s 9ms/step - loss: 0.2293 - accuracy: 0.9015 - val_loss: 0.5211 - val_accuracy: 0.7973\n",
      "Epoch 35/50\n",
      "42/42 [==============================] - 0s 7ms/step - loss: 0.2263 - accuracy: 0.9030 - val_loss: 0.5215 - val_accuracy: 0.7973\n",
      "Epoch 36/50\n",
      "42/42 [==============================] - 0s 7ms/step - loss: 0.2193 - accuracy: 0.9076 - val_loss: 0.5313 - val_accuracy: 0.7973\n",
      "Epoch 37/50\n",
      "42/42 [==============================] - 0s 7ms/step - loss: 0.2242 - accuracy: 0.9045 - val_loss: 0.5352 - val_accuracy: 0.7973\n",
      "Epoch 38/50\n",
      "42/42 [==============================] - 0s 7ms/step - loss: 0.2192 - accuracy: 0.9061 - val_loss: 0.5345 - val_accuracy: 0.7973\n",
      "Epoch 39/50\n",
      "42/42 [==============================] - 0s 6ms/step - loss: 0.2220 - accuracy: 0.9000 - val_loss: 0.5383 - val_accuracy: 0.7973\n",
      "Epoch 40/50\n",
      "42/42 [==============================] - 0s 7ms/step - loss: 0.2170 - accuracy: 0.9045 - val_loss: 0.5383 - val_accuracy: 0.7973\n",
      "Epoch 41/50\n",
      "42/42 [==============================] - 0s 8ms/step - loss: 0.2131 - accuracy: 0.9000 - val_loss: 0.5415 - val_accuracy: 0.7973\n",
      "Epoch 42/50\n",
      "42/42 [==============================] - 0s 8ms/step - loss: 0.2132 - accuracy: 0.9045 - val_loss: 0.5422 - val_accuracy: 0.7973\n",
      "Epoch 43/50\n",
      "42/42 [==============================] - 0s 7ms/step - loss: 0.2136 - accuracy: 0.9030 - val_loss: 0.5491 - val_accuracy: 0.7973\n",
      "Epoch 44/50\n",
      "42/42 [==============================] - 0s 7ms/step - loss: 0.2073 - accuracy: 0.9076 - val_loss: 0.5522 - val_accuracy: 0.7973\n",
      "Epoch 45/50\n",
      "42/42 [==============================] - 0s 8ms/step - loss: 0.2101 - accuracy: 0.9136 - val_loss: 0.5567 - val_accuracy: 0.7973\n",
      "Epoch 46/50\n",
      "42/42 [==============================] - 0s 9ms/step - loss: 0.2048 - accuracy: 0.9121 - val_loss: 0.5647 - val_accuracy: 0.7973\n",
      "Epoch 47/50\n",
      "42/42 [==============================] - 0s 7ms/step - loss: 0.2030 - accuracy: 0.9091 - val_loss: 0.5645 - val_accuracy: 0.7973\n",
      "Epoch 48/50\n",
      "42/42 [==============================] - 0s 7ms/step - loss: 0.2000 - accuracy: 0.9091 - val_loss: 0.5707 - val_accuracy: 0.7973\n",
      "Epoch 49/50\n",
      "42/42 [==============================] - 0s 7ms/step - loss: 0.1991 - accuracy: 0.9121 - val_loss: 0.5789 - val_accuracy: 0.7973\n",
      "Epoch 50/50\n",
      "42/42 [==============================] - 0s 6ms/step - loss: 0.2053 - accuracy: 0.9136 - val_loss: 0.5824 - val_accuracy: 0.7973\n"
     ]
    },
    {
     "data": {
      "text/plain": [
       "<keras.src.callbacks.History at 0x20e9d455a20>"
      ]
     },
     "execution_count": 306,
     "metadata": {},
     "output_type": "execute_result"
    }
   ],
   "source": [
    "# Train the model\n",
    "model.fit(X_train, y_train, epochs=50, batch_size=16, validation_split=0.1)"
   ]
  },
  {
   "cell_type": "code",
   "execution_count": 307,
   "id": "fedc4684",
   "metadata": {},
   "outputs": [
    {
     "name": "stdout",
     "output_type": "stream",
     "text": [
      "6/6 [==============================] - 0s 2ms/step\n"
     ]
    }
   ],
   "source": [
    "# Make predictions on the test set\n",
    "y_pred = model.predict(X_test)\n",
    "y_pred = (y_pred > 0.5).astype(int)"
   ]
  },
  {
   "cell_type": "code",
   "execution_count": 308,
   "id": "ec29749d",
   "metadata": {},
   "outputs": [
    {
     "name": "stdout",
     "output_type": "stream",
     "text": [
      "Precision: 91.50943396226415\n",
      "Recall: 90.65420560747664\n",
      "Accuracy: 89.67391304347827\n",
      "F1 Score: 91.07981220657277\n"
     ]
    }
   ],
   "source": [
    "# Calculate evaluation metrics\n",
    "precision = precision_score(y_test, y_pred)\n",
    "recall = recall_score(y_test, y_pred)\n",
    "accuracy = accuracy_score(y_test, y_pred)\n",
    "f1 = f1_score(y_test, y_pred)\n",
    "\n",
    "# Print the evaluation metrics\n",
    "print(\"Precision:\", precision*100)\n",
    "print(\"Recall:\", recall*100)\n",
    "print(\"Accuracy:\", accuracy*100)\n",
    "print(\"F1 Score:\", f1*100)"
   ]
  },
  {
   "cell_type": "code",
   "execution_count": null,
   "id": "0c9d20f4",
   "metadata": {},
   "outputs": [],
   "source": []
  }
 ],
 "metadata": {
  "kernelspec": {
   "display_name": "Python 3 (ipykernel)",
   "language": "python",
   "name": "python3"
  },
  "language_info": {
   "codemirror_mode": {
    "name": "ipython",
    "version": 3
   },
   "file_extension": ".py",
   "mimetype": "text/x-python",
   "name": "python",
   "nbconvert_exporter": "python",
   "pygments_lexer": "ipython3",
   "version": "3.10.9"
  }
 },
 "nbformat": 4,
 "nbformat_minor": 5
}
